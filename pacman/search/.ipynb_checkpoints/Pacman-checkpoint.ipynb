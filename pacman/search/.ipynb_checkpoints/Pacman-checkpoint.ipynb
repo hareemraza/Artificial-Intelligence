{
 "cells": [
  {
   "cell_type": "markdown",
   "metadata": {},
   "source": [
    "# Search Algorithms\n",
    "- The primary goal of programming assignment 1 is to `teach` you (and test you) on `Search Algorithms` (DFS, A*, genetic Algorithms to name a few) from a programmer's perspective. \n",
    "- This will also test your programming and core abilites. \n",
    "- You may have to push yoursefl to your limits. \n",
    "- Follow [best programming practices](https://github.com/google/styleguide/blob/gh-pages/pyguide.md).\n",
    "- It may take a lot of time (measured in units of days), and you'll not have the luxury of time. Prioritize your acitivites accordingly.\n",
    "- You will learn a lot, and you will have so much [fun](https://blogs.baruch.cuny.edu/authenticityandastonishment2/files/2013/04/Mihaly-Csikszentmihalyi-Flow1.pdf).\n",
    "- Respect and abide by the honor code of LUMS university."
   ]
  },
  {
   "cell_type": "markdown",
   "metadata": {},
   "source": [
    "## Pacman "
   ]
  },
  {
   "cell_type": "markdown",
   "metadata": {},
   "source": [
    "This pacman part of your programming assignment is based on Pac-Man projects of Berkeley, but this assignment differs considerably from the original project.\n",
    "Your Pacman agent will find paths through his maze world, both to reach a particular location and to collect food efficiently. You will build general search algorithms and apply them to Pacman scenarios.\n",
    "As in the ungraded Python tutorial, this project includes an autograder for you to grade your answers on your machine. This can be run with the command: \n",
    "```Python\n",
    "python autograder.py\n",
    "```\n",
    "Uncomment (if commented) the next cell and run it. The `autograder.py` can test four of the seven algorithms that you'll implement. \n",
    "\n",
    "`Aside`: All the commands can also be executed in a terminal if you don't prefer notebook."
   ]
  },
  {
   "cell_type": "code",
   "execution_count": 5,
   "metadata": {},
   "outputs": [],
   "source": [
    "!python autograder.py"
   ]
  },
  {
   "cell_type": "markdown",
   "metadata": {},
   "source": [
    "`Program testing can be used to show the presence of bugs, but never to show their absence!`- Dijkstra."
   ]
  },
  {
   "attachments": {},
   "cell_type": "markdown",
   "metadata": {},
   "source": [
    "For this notebook, You'll write code for the following algorithms:\n",
    "```Python\n",
    "bfs = breadthFirstSearch\n",
    "dfs = depthFirstSearch\n",
    "rdfs = Recursive_depthFirstSearch\n",
    "dls = depthLimitedSearch\n",
    "rdls = Recursive_depthLimitedSearch\n",
    "astar = aStarSearch\n",
    "ucs = uniformCostSearch\n",
    "```\n",
    "The `autograder.py` gives 3 points each for passing tests for `breadthFirstSearch`, `depthFirstSearch`, `uniformCostSearch`, `aStarSearch`. \n",
    "<br><br>\n",
    "\n",
    "## `Files`\n",
    "The code for this project consists of several Python files, some of which you will need to read and understand in order to complete the assignment, and some of which you can ignore.\n",
    "`The only file you'll edit is \"search.py\"`\n",
    "You should have a look at 'searchAgents.py'. <br><br>\n",
    "\n",
    "<div>\n",
    "<img src=\"files_img.png\" width=\"600\">\n",
    "</div>\n"
   ]
  },
  {
   "cell_type": "markdown",
   "metadata": {},
   "source": [
    "`Evaluation`: Your code will be autograded for technical correctness. Please do not change the names of any provided functions or classes within the code, or you will wreak havoc on the autograder. However, the correctness of your implementation – not the autograder’s judgements – will be the final judge of your score"
   ]
  },
  {
   "cell_type": "markdown",
   "metadata": {},
   "source": [
    "### Welcome to Pacman\n",
    "After downloading the code (search.zip), unzipping it, and changing to the directory, you should be able to play a game of Pacman by executing the next cell:"
   ]
  },
  {
   "cell_type": "code",
   "execution_count": 3,
   "metadata": {},
   "outputs": [],
   "source": [
    "!python pacman.py"
   ]
  },
  {
   "cell_type": "markdown",
   "metadata": {},
   "source": [
    "Pacman lives in a shiny blue world of twisting corridors and tasty round treats. Navigating this world efficiently will be Pacman’s first step in mastering his domain.\n",
    "The simplest agent in searchAgents.py is called the GoWestAgent, which always goes West (a trivial reflex agent). This agent can occasionally win:"
   ]
  },
  {
   "cell_type": "code",
   "execution_count": 34,
   "metadata": {
    "scrolled": true
   },
   "outputs": [],
   "source": [
    "!python pacman.py --layout testMaze --pacman GoWestAgent"
   ]
  },
  {
   "cell_type": "markdown",
   "metadata": {},
   "source": [
    "But, things get ugly for this agent when turning is required:"
   ]
  },
  {
   "cell_type": "code",
   "execution_count": 9,
   "metadata": {},
   "outputs": [],
   "source": [
    "!python pacman.py --layout tinyMaze --pacman GoWestAgent"
   ]
  },
  {
   "cell_type": "markdown",
   "metadata": {},
   "source": [
    "If Pacman gets stuck, you can exit the game by 'interrupting the kernel'.\n",
    "\n",
    "Soon, your agent will solve not only tinyMaze, but any maze you want.\n",
    "\n",
    "Note that `pacman.py` supports a number of options that can each be expressed in a long way (e.g., `--layout`) or a short way (e.g., `-l`). You can see the list of all options and their default values via:"
   ]
  },
  {
   "cell_type": "code",
   "execution_count": 12,
   "metadata": {},
   "outputs": [],
   "source": [
    "!python pacman.py -h"
   ]
  },
  {
   "cell_type": "markdown",
   "metadata": {},
   "source": [
    "### `Question 1 (3 points): Finding a Fixed Food Dot using Depth First Search`\n",
    "In `searchAgents.py`, you’ll find a fully implemented `SearchAgent`, which plans out a path through Pacman’s world and then executes that path step-by-step. The search algorithms for formulating a plan are not implemented – that’s your job.\n",
    "\n",
    "First, test that the `SearchAgent` is working correctly by running the next cell:"
   ]
  },
  {
   "cell_type": "code",
   "execution_count": 2,
   "metadata": {
    "scrolled": true
   },
   "outputs": [],
   "source": [
    "!python pacman.py -l tinyMaze -p SearchAgent -a fn=tinyMazeSearch"
   ]
  },
  {
   "cell_type": "markdown",
   "metadata": {},
   "source": [
    "The command above tells the SearchAgent to use `tinyMazeSearch` as its search algorithm, which is implemented in `search.py`. Pacman should navigate the maze successfully.\n",
    "\n"
   ]
  },
  {
   "attachments": {},
   "cell_type": "markdown",
   "metadata": {},
   "source": [
    "Now it’s time to write full-fledged generic search functions to help Pacman plan routes! Pseudocode for the general graph search algorithm is the following: <br><br> <div>\n",
    "<img src=\"graph_search.png\" width=\"800\">\n",
    "</div>\n",
    "\n",
    "Fringe is the `queue`- your book calls it frontier.\n",
    "\n",
    "Remember that a search node must contain not only a state but also the information necessary to reconstruct the path (plan) which gets to that state.\n",
    "\n",
    "`Important note`: All of your search functions need to return a list of actions that will lead the agent from the start to the goal. These actions all have to be legal moves (valid directions, no moving through walls).\n",
    "\n",
    "Important note: Make sure to use the Stack, Queue and PriorityQueue data structures provided to you in util.py! These data structure implementations have particular properties which are required for compatibility with the autograder.\n",
    "\n",
    "`Autograder`: When you run `autograder.py`, dfs will be the `Question 1`, and the autograder will give 3/3 points for passing all tests.\n",
    "\n",
    "`Hints:` Iterative version of each algorithm is very similar. Algorithms for DFS, DLS, BFS, UCS, and A* differ only in the details of how the fringe is managed. So, concentrate on getting DFS right and the rest should be relatively straightforward. Similarly, recursive version of DFS and DLS, is also very similar.\n",
    "\n",
    "Implement the depth-first search (DFS) algorithm in the `depthFirstSearch` function in `search.py`. To make your algorithm complete, write the graph search version of DFS, which avoids expanding any already visited states.\n",
    "Your code should quickly find a solution for:"
   ]
  },
  {
   "cell_type": "code",
   "execution_count": 17,
   "metadata": {},
   "outputs": [],
   "source": [
    "!python pacman.py -l tinyMaze -p SearchAgent"
   ]
  },
  {
   "cell_type": "code",
   "execution_count": 18,
   "metadata": {},
   "outputs": [],
   "source": [
    "!python pacman.py -l mediumMaze -p SearchAgent"
   ]
  },
  {
   "cell_type": "code",
   "execution_count": 19,
   "metadata": {},
   "outputs": [],
   "source": [
    "!python pacman.py -l bigMaze -z .5 -p SearchAgent"
   ]
  },
  {
   "cell_type": "markdown",
   "metadata": {},
   "source": [
    "The Pacman board will show an overlay of the states explored, and the order in which they were explored (brighter red means earlier exploration). Is the exploration order what you would have expected? Does Pacman actually go to all the explored squares on his way to the goal? \n",
    "\n",
    "`Hint`: If you use a Stack as your data structure, the solution found by your DFS algorithm for mediumMaze should have a length of 130 (provided you push successors onto the fringe in the order provided by getSuccessors; you might get 246 if you push them in the reverse order). Is this a least cost solution? If not, think about what depth-first search is doing wrong."
   ]
  },
  {
   "cell_type": "code",
   "execution_count": null,
   "metadata": {},
   "outputs": [],
   "source": []
  },
  {
   "cell_type": "markdown",
   "metadata": {},
   "source": [
    "### `Question 2 (4 points): Recursive Depth First Search`\n",
    "Implement the recursive version of depth-first search (rdfs) algorithm in the `RecursiveDepthFirstSearch` member function of class `_RecursiveDepthFirstSearch` in `search.py`. Again, write a graph search algorithm that avoids expanding any already visited states.\n",
    "Output of 'recursive' dfs should match that of 'iterative' dfs you implemented above. \n",
    "\n",
    "`Autograder` cannot assign you score for this one. If your traversal matches that of the iterative version of dfs, then recursive version is also likely correct.\n",
    "\n",
    "`Key Point`: Remember in tutorial you were asked to expand the left-most child \n",
    "first for dfs and bfs for consistency. If you expanded the right-most\n",
    "first, dfs/bfs would be correct in principle but may not return the same\n",
    "path. \n",
    "\n",
    "`Hint`: `self.problem.getSuccessors(node)` will return children of \n",
    "a node in a certain \"sequence\", say (A->B->C), If your 'recursive' dfs traversal \n",
    "is different from 'iterative' traversal, try reversing the sequence. "
   ]
  },
  {
   "cell_type": "code",
   "execution_count": 33,
   "metadata": {},
   "outputs": [],
   "source": [
    "!python pacman.py -l mediumMaze -p SearchAgent -a fn=rdfs"
   ]
  },
  {
   "cell_type": "code",
   "execution_count": 34,
   "metadata": {},
   "outputs": [],
   "source": [
    "!python pacman.py -l bigMaze -p SearchAgent -a fn=rdfs -z .5"
   ]
  },
  {
   "cell_type": "code",
   "execution_count": null,
   "metadata": {},
   "outputs": [],
   "source": []
  },
  {
   "cell_type": "markdown",
   "metadata": {},
   "source": [
    "### `Question 3 (3 points) Depth Limited Search`\n",
    "Implement the depth-limited search (dls) algorithm in the `depthLimitedSearch` function in `search.py`. Again, write a graph search algorithm that avoids expanding any already visited states. You may find section $3.4.4$ of your textbook helpful. \n",
    "\n",
    "Search the deepest nodes in the search tree first as long as thenodes are not not deeper than the  'limit'.\n",
    "\n",
    "\n",
    "`Hints`: You may need to store additional information in your queue.\n",
    "\n",
    "`Autograder` cannot assign you score for this one. For medium maze, pacman should find food for limit less than `130`. If your solution needs 'limit' greater than `130`, it's likely bogus.\n",
    "Specifically, pacman should work normally (with limit<=130). If your medium maze works fine for limit 130 or less, then figure out the limit for bigMaze by hit and trial. "
   ]
  },
  {
   "cell_type": "code",
   "execution_count": 35,
   "metadata": {},
   "outputs": [],
   "source": [
    "!python pacman.py -l mediumMaze -p SearchAgent -a fn=dls"
   ]
  },
  {
   "cell_type": "code",
   "execution_count": null,
   "metadata": {},
   "outputs": [],
   "source": [
    "!python pacman.py -l bigMaze -p SearchAgent -a fn=dls -z .5"
   ]
  },
  {
   "cell_type": "code",
   "execution_count": null,
   "metadata": {},
   "outputs": [],
   "source": []
  },
  {
   "cell_type": "markdown",
   "metadata": {},
   "source": [
    "### `Question 4 (4 points): Recursive Depth Limited Search`\n",
    "Implement the recursive version of depth-first search (rdls) algorithm in the `RecursiveDepthLimitedSearch` member function of class `_RecursiveDepthLimitedSearch` in `search.py`. Again, write a graph search algorithm that avoids expanding any already visited states.\n",
    "Output of 'recursive' dls should match that of 'iterative' dls you implemented above. \n",
    "\n",
    "`Autograder` cannot assign you score for this one. For medium maze, pacman should find food for limit less than `204`. If your solution needs 'limit' greater than 204, it's likely bogus. If your medium maze works fine for limit 204 or less, then figure out the limit for bigMaze by hit and trial. \n",
    "\n",
    "`Hint`: If you've successfully implemented recrusive dfs, then you can implement rdls by adding 2 additional lines of code in `RecursiveDepthLimitedSearch`"
   ]
  },
  {
   "cell_type": "code",
   "execution_count": 29,
   "metadata": {},
   "outputs": [],
   "source": [
    "!python pacman.py -l mediumMaze -p SearchAgent -a fn=rdls"
   ]
  },
  {
   "cell_type": "code",
   "execution_count": 30,
   "metadata": {},
   "outputs": [],
   "source": [
    "!python pacman.py -l bigMaze -p SearchAgent -a fn=rdls -z .5"
   ]
  },
  {
   "cell_type": "code",
   "execution_count": null,
   "metadata": {},
   "outputs": [],
   "source": []
  },
  {
   "cell_type": "markdown",
   "metadata": {},
   "source": [
    "### `Question 5 (3 points): Breadth First Search`\n",
    "Implement the breadth-first search (BFS) algorithm in the `breadthFirstSearch` function in `search.py`. Again, write a graph search algorithm that avoids expanding any already visited states. Test your code the same way you did for depth-first search.\n",
    "\n",
    "\n",
    "`Autograder`: When you run `autograder.py`, this will be the `Question 2`, and the autograder will give 3/3 points for passing all tests.\n"
   ]
  },
  {
   "cell_type": "code",
   "execution_count": 22,
   "metadata": {},
   "outputs": [],
   "source": [
    "!python pacman.py -l mediumMaze -p SearchAgent -a fn=bfs"
   ]
  },
  {
   "cell_type": "code",
   "execution_count": null,
   "metadata": {},
   "outputs": [],
   "source": [
    "!python pacman.py -l bigMaze -p SearchAgent -a fn=bfs -z .5"
   ]
  },
  {
   "cell_type": "markdown",
   "metadata": {},
   "source": [
    "Does BFS find a least cost solution? If not, check your implementation.\n",
    "\n",
    "`Hint`: If Pacman moves too slowly for you, try the option --frameTime 0."
   ]
  },
  {
   "cell_type": "code",
   "execution_count": null,
   "metadata": {},
   "outputs": [],
   "source": []
  },
  {
   "cell_type": "markdown",
   "metadata": {},
   "source": [
    "### `Question 6 (3 points): Uniform Cost Search`\n",
    "While BFS will find a fewest-actions path to the goal, we might want to find paths that are “best” in other senses. Consider `mediumDottedMaze` and `mediumScaryMaze`.\n",
    "\n",
    "By changing the cost function, we can encourage Pacman to find different paths. For example, we can charge more for dangerous steps in ghost-ridden areas or less for steps in food-rich areas, and a rational Pacman agent should adjust its behavior in response.\n",
    "\n",
    "Implement the uniform-cost graph search algorithm in the `uniformCostSearch` function in `search.py`. We encourage you to look through `util.py` for some data structures that may be useful in your implementation.\n",
    "\n",
    "`Key Point`: If a node is already present in the queue with higher path cost, \n",
    "you'll update its cost. (Similar to the pseudocode in `figure 3.14` of your textbook.). Be careful, \n",
    "autograder cannot catch this bug.\n",
    "\n",
    "`Autograder`: When you run `autograder.py`, this will be the `Question 3`, and the autograder will give 3/3 points for passing all tests.\n",
    "\n",
    "You should now observe successful behavior in all three of the following layouts, where the agents below are all UCS agents that differ only in the cost function they use (the agents and cost functions are written for you):"
   ]
  },
  {
   "cell_type": "code",
   "execution_count": null,
   "metadata": {},
   "outputs": [],
   "source": [
    "!python pacman.py -l mediumMaze -p SearchAgent -a fn=ucs"
   ]
  },
  {
   "cell_type": "code",
   "execution_count": null,
   "metadata": {},
   "outputs": [],
   "source": [
    "!python pacman.py -l mediumDottedMaze -p StayEastSearchAgent"
   ]
  },
  {
   "cell_type": "code",
   "execution_count": null,
   "metadata": {},
   "outputs": [],
   "source": [
    "!python pacman.py -l mediumScaryMaze -p StayWestSearchAgent"
   ]
  },
  {
   "cell_type": "markdown",
   "metadata": {},
   "source": [
    "Note: You should get very low and very high path costs for the StayEastSearchAgent and StayWestSearchAgent respectively, due to their exponential cost functions (see searchAgents.py for details)."
   ]
  },
  {
   "cell_type": "code",
   "execution_count": null,
   "metadata": {},
   "outputs": [],
   "source": []
  },
  {
   "cell_type": "markdown",
   "metadata": {},
   "source": [
    "### `Question 7 (3 points): A* search`\n",
    "Implement A* graph search in the empty function `aStarSearch` in `search.py`. A* takes a heuristic function as an argument. Heuristics take two arguments: a state in the search problem (the main argument), and the problem itself (for reference information). The `nullHeuristic` heuristic function in `search.py` is a trivial example.\n",
    "\n",
    "`Key Point`: If a node is already present in the queue with higher path cost, \n",
    "you'll update its cost. (Similar to the pseudocode in `figure 3.14` of your textbook.). Be careful, \n",
    "autograder cannot catch this bug.\n",
    "\n",
    "You can test your A* implementation on the original problem of finding a path through a maze to a fixed position using the Manhattan distance heuristic (implemented already as `manhattanHeuristic` in `searchAgents.py`).\n",
    "\n",
    "\n",
    "`Autograder`: When you run `autograder.py`, this will be the `Question 4`, and the autograder will give 3/3 points for passing all tests."
   ]
  },
  {
   "cell_type": "code",
   "execution_count": null,
   "metadata": {},
   "outputs": [],
   "source": [
    "!python pacman.py -l bigMaze -z .5 -p SearchAgent -a fn=astar,heuristic=manhattanHeuristic"
   ]
  },
  {
   "cell_type": "markdown",
   "metadata": {},
   "source": [
    "You should see that A* finds the optimal solution slightly faster than uniform cost search (about 549 vs. 620 search nodes expanded in our implementation, but ties in priority may make your numbers differ slightly). What happens on openMaze for the various search strategies?\n",
    "\n"
   ]
  },
  {
   "cell_type": "code",
   "execution_count": null,
   "metadata": {},
   "outputs": [],
   "source": []
  },
  {
   "cell_type": "code",
   "execution_count": null,
   "metadata": {},
   "outputs": [],
   "source": []
  }
 ],
 "metadata": {
  "kernelspec": {
   "display_name": "Python 3",
   "language": "python",
   "name": "python3"
  },
  "language_info": {
   "codemirror_mode": {
    "name": "ipython",
    "version": 3
   },
   "file_extension": ".py",
   "mimetype": "text/x-python",
   "name": "python",
   "nbconvert_exporter": "python",
   "pygments_lexer": "ipython3",
   "version": "3.6.10"
  }
 },
 "nbformat": 4,
 "nbformat_minor": 2
}
