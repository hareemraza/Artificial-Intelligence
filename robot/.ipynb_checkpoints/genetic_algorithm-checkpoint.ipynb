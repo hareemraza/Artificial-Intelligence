{
 "cells": [
  {
   "cell_type": "markdown",
   "metadata": {},
   "source": [
    "`You will not write any code in this notebook. Write all your code in Python file genetic_algorithm.py`"
   ]
  },
  {
   "cell_type": "code",
   "execution_count": 1,
   "metadata": {},
   "outputs": [],
   "source": [
    "# Install bitstring here.\n",
    "import subprocess\n",
    "import sys\n",
    "def install(package):\n",
    "    subprocess.check_call([sys.executable, \"-m\", \"pip\", \"install\", package])\n",
    "install(\"bitstring\")"
   ]
  },
  {
   "cell_type": "code",
   "execution_count": 3,
   "metadata": {},
   "outputs": [],
   "source": [
    "# Set up library imports\n",
    "from testing.testing import test\n",
    "import bitstring\n",
    "import genetic_algorithm as  GA\n",
    "POPULATION_SIZE = 64\n",
    "CHROMOSOME_LENGTH = 56\n",
    "verbose = False"
   ]
  },
  {
   "cell_type": "markdown",
   "metadata": {},
   "source": [
    "# Genetic Algorithm (Robot Wall Traversing)"
   ]
  },
  {
   "cell_type": "markdown",
   "metadata": {},
   "source": [
    "In this notebook we will teach a robot how to traverse a wall. The goal of this simplified assignment is to teach you basic principles of [Genetic Algorithm](https://en.wikipedia.org/wiki/Genetic_algorithm). Genetic Algorithms (GA) are inspired from [Evolution](https://en.wikipedia.org/wiki/Darwinism) you studied in Biology. \n",
    "You may also find these [slides](https://drive.google.com/file/d/1exXbHn_k0_jNRbRbyVrh6Ecn2SHVEvtQ/view?usp=sharing) on genetic algorithms helpful.\n"
   ]
  },
  {
   "cell_type": "markdown",
   "metadata": {},
   "source": [
    "`The problem we will solve using GA looks as follows:`"
   ]
  },
  {
   "cell_type": "markdown",
   "metadata": {},
   "source": [
    "<img src=\"robot_img.png\" width=\"800\">\n",
    "</div>"
   ]
  },
  {
   "cell_type": "markdown",
   "metadata": {},
   "source": [
    "## Scene Description:"
   ]
  },
  {
   "cell_type": "markdown",
   "metadata": {},
   "source": [
    "- The simulated robot (currently at `start` facing East) has five sensors which can detect the presence or absence of wall in the five grid locations it faces, as shown. \n",
    "- It can take one of the four actions:\n",
    "> Do nothing <br>\n",
    "> Turn left (at 90 degrees) on the spot  <br>\n",
    "> Turn right (at 90 degrees) on the spot  <br>\n",
    "> Go forward one cell.  <br>\n",
    "- The fitness of the robot is how many of the highlighted cells next to the wall it has covered in a fixed number of sense- act cycles.\n",
    "- Robots are allowed 28 such cycles per trial, i.e., enough to follow the wall perfectly."
   ]
  },
  {
   "cell_type": "markdown",
   "metadata": {},
   "source": [
    "The Robot is allowed 28 cycles only and to perfectly traverse the wall it needs at least 28 cycles. Therefore, it should perform each step correctly. For example, even if it makes one mistake, it will waste at least 1 step; Thus, never reaching the destination in prescribed limit. \n"
   ]
  },
  {
   "cell_type": "markdown",
   "metadata": {},
   "source": [
    "### Encode Actions Using Bits\n",
    "The robot is allowed to perform 4 actions at a time. To encode path in Python, it's not convenient to say:\n",
    "```python\n",
    "path = 'Step forward Step forward Step forward Turn Right Turn Right and so on'\n",
    "```\n",
    "Instead we can use bits to encode each of these actions. There are four actions that the robot can perfrom, and from CS-225, you should recall, to encode 4 actions we only need 2 bits. \n",
    "Note that any arbitrary encoding will work well; however, the encoding we'll use is the following:\n",
    "-\t00 -> Do Nothing\n",
    "-\t01 -> Step forward\n",
    "-\t10 -> Turn Right\n",
    "-\t11 -> Turn Left\n",
    "Now, to encode the above path, the string of bits becomes:\n",
    "```python\n",
    "path = '0101011010...'\n",
    "```\n",
    "More natural for programming!"
   ]
  },
  {
   "cell_type": "markdown",
   "metadata": {},
   "source": [
    "\n",
    "Note that to perfectly traverse the wall, the robot needs to take 28 correct steps. Therefore, To perfectly encode the correct path from start to end, fifty eight total bits are required (58=28 * 2). According to the above encoding, the correct path encoding is the following string of bits which will call Wall_Bit_String: \n",
    "```python\n",
    "Wall_Bit_String = '01010101011001101101010111011001100101010101100101010101'\n",
    "```\n",
    "To handle this string of bits efficiently, we'll use [BitString](https://pythonhosted.org/bitstring/introduction.html) library- specifically [ConstBitStream](https://pythonhosted.org/bitstring/constbitstream.html#bitstring.ConstBitStream). All your string of bits will be wrapped in ConstBitStream.\n",
    "\n",
    "\n",
    "`Aside` For the sake of this assignment, we've actually much simplified the problem (reducing solution space) by using the above encoding- this encoding will also ensure that solutions of all of you will converge (robot will reach target) in a reasonable amount of time. In practice, GAs may take a long time to converge (if they converge). Many alternative implementations are also possible. Eager students can explore them on their own. \n",
    "\n",
    "`An Interpertation of BitString Encoding`:\n",
    "For Finding the fitness of a candidate solution, We are using a very strict condition: if a robot, makes 1 wrong move, it will not be allowed to advance any further, and its fitness so far will be returned. For example, on the contrary, a lenient condition would have been to allow the robot advance even if it makes wrong moves. \n",
    "\n",
    "If you decode the path the above string encodes, the robot will exactly traverse the wall in 28 steps. Our Genetic algorithm problem has to learn this exact sequence of 58 bits starting from a set of random sequence of bits called [population](https://en.wikipedia.org/wiki/Feasible_region). Note the word 'set', we'll start from `many` random sequences like this.\n",
    "<br><br> \n",
    "Read the following pseudocode of GA taken from [the slides](https://drive.google.com/file/d/1exXbHn_k0_jNRbRbyVrh6Ecn2SHVEvtQ/view?usp=sharing) before moving on.\n",
    "<img src=\"GA_alg_img.png\" width=\"800\">\n",
    "</div>"
   ]
  },
  {
   "cell_type": "markdown",
   "metadata": {},
   "source": [
    "Let's write that pesudocode in Python. In module you'll see the following code (equivalent of pseudocode)\n",
    "```Python\n",
    "def run_genetic_alg(self):\n",
    "        '''  \n",
    "        The pseudo you saw in slides of Genetic Algorithm is implemented here. \n",
    "        Here, You'll get a flavor of functional \n",
    "        programming in Python- Those who attempted ungraded optional tasks in tutorial\n",
    "        have seen something similar there as well. \n",
    "        Those with experience in functional programming (Haskell etc)\n",
    "        should have no trouble understanding the code below. Otherwise, take our word that\n",
    "        this is more or less similar to the generic pseudocode in Jupyter Notebook.\n",
    "\n",
    "        '''\n",
    "        \"You may not make any changes to this function.\"\n",
    "\n",
    "        # Creation of Population\n",
    "        solutions = self.generate_candidate_sols(self.population_size)\n",
    "\n",
    "        # Evaluation of individuals\n",
    "        parents = self.evaluate_candidates(solutions)\n",
    "\n",
    "        while(not self.terminate):\n",
    "            # Make pairs\n",
    "            pairs_of_parents = self.select_parents(parents)\n",
    "\n",
    "            # Recombination of pairs.\n",
    "            recombinded_parents = list(chain(*map(lambda pair: \\\n",
    "                self.recombine_pairs_of_parents(pair[0], pair[1]), \\\n",
    "                    pairs_of_parents))) \n",
    "\n",
    "            # Mutation of each individual\n",
    "            mutated_offspring = list(map(lambda offspring: \\\n",
    "                self.mutate_offspring(offspring), recombinded_parents))\n",
    "\n",
    "            # Evaluation of individuals\n",
    "            parents = self.evaluate_candidates(mutated_offspring) # new parents (offspring)\n",
    "```\n",
    "\n"
   ]
  },
  {
   "cell_type": "code",
   "execution_count": null,
   "metadata": {},
   "outputs": [],
   "source": []
  },
  {
   "cell_type": "markdown",
   "metadata": {},
   "source": [
    "### `1- On Generating Candidate Solutions:`\n",
    "Write your code in `generate_candidate_sols` in class `GeneticAlgorithm`. Here, you'll be creating your initial random population of size `n`. Each individual in this population is a `56 bit ConstBitStream` object. Population is a list of size `n` whose each element is a `56 bit ConstBitStream`. More information is provided in `generate_candidate_sols`.\n",
    "\n",
    "See [Slides](https://drive.google.com/file/d/1exXbHn_k0_jNRbRbyVrh6Ecn2SHVEvtQ/view?usp=sharing) for further information. \n",
    "\n",
    "`Test` your implementation of `generate_candidate_sols` by running the next cell. \n",
    "\n",
    "Testing in this notebook is not exhaustive."
   ]
  },
  {
   "cell_type": "code",
   "execution_count": 4,
   "metadata": {
    "scrolled": false
   },
   "outputs": [
    {
     "name": "stdout",
     "output_type": "stream",
     "text": [
      "### TESTING generate_candidate_sols: PASSED 3/3\n",
      "###\n",
      "\n"
     ]
    }
   ],
   "source": [
    "# Test your generate_candidate_sols() function\n",
    "def generate_candidate_sols_test(generate_candidate_sols):\n",
    "    test.equal(len(generate_candidate_sols(64)), (64))\n",
    "    test.equal(len(generate_candidate_sols(512)), (512))\n",
    "    test.equal(isinstance(generate_candidate_sols(1)[0], bitstring.ConstBitStream), True)\n",
    "@test\n",
    "def generate_candidate_sols(pop_size):\n",
    "    genetic_algorithm = GA.GeneticAlgorithm(64, CHROMOSOME_LENGTH, verbose)\n",
    "    return genetic_algorithm.generate_candidate_sols(pop_size)"
   ]
  },
  {
   "cell_type": "markdown",
   "metadata": {},
   "source": [
    "`Program testing can be used to show the presence of bugs, but never to show their absence!`- Dijkstra."
   ]
  },
  {
   "cell_type": "code",
   "execution_count": null,
   "metadata": {},
   "outputs": [],
   "source": []
  },
  {
   "cell_type": "markdown",
   "metadata": {},
   "source": [
    "### `2- On Evaluating Individuals:`\n",
    "\n",
    "\n",
    "```Python\n",
    "def evaluate_candidates(self, candidates): \n",
    "        '''\n",
    "        args: candidate solutions (list) => each element is a bitstring (ConstBitStream)\n",
    "        \n",
    "        returns: parents (list) => each element is a bitstring (ConstBitStream) but elements \n",
    "                                   can have more than one copy. Fittest candidates will have multiple copies.\n",
    "                                   Size of 'parents' must be equal to population size.  \n",
    "        '''\n",
    "```\n",
    "In function `evaluate_candidates()`, you'll use the formula (`Roulette Wheel Selection`) to find expected number of copies of an individual in the the following generation. See [Slides.](https://drive.google.com/file/d/1exXbHn_k0_jNRbRbyVrh6Ecn2SHVEvtQ/view?usp=sharing) \n",
    "\n",
    "##### `Fitness of a Candidate Solution f(i, t)`:\n",
    "$f(i, t)$ is fitness of individual $i$ in generation $t$. \n",
    "\n",
    "To find fitness of each candidate, you'll find how close it's to the target by counting matching pairs bits in 'WallBitString' and the candidate. For example, if a candidate looks like this \n",
    "```Python \n",
    "candidate     = '010101 11111001101101010111011001100101010101100101010101' # Spaces are added for clarity\n",
    "WallBitString = '010101 01011001101101010111011001100101010101100101010101'\n",
    "```\n",
    "As you can see three pairs of this candidate match with the target (WallBitString) out of total 23 pairs. So, fitness of this candidate is $(3/28)$\n",
    "\n",
    "You may find [read](https://pythonhosted.org/bitstring/constbitstream.html#bitstring.ConstBitStream.read) attribute of ConstBitStream class helpful.\n",
    "\n",
    "##### `Other Terms in the Formula`:\n",
    "\n",
    "In denominator in the formula is `average` fitness of the whole population.\n",
    "We'll use this formula for finding average fitness:\n",
    "```Python\n",
    "total_possible_matching_pairs = 28\n",
    "f_avg = (total_matching_bit_pairs_of_whole_population / total_possible_matching_pairs) / population_size\n",
    "```\n",
    "$n(i, t)$ is count of individual $i$ in current generation $t$. For our case, we'll ignore this for simplicity. We'll assume it's always one.\n",
    "\n",
    "Test your implementation of `evaluate_candidates` by running the cell below."
   ]
  },
  {
   "cell_type": "code",
   "execution_count": 5,
   "metadata": {},
   "outputs": [
    {
     "name": "stdout",
     "output_type": "stream",
     "text": [
      "### TESTING evaluate_candidate_sols: PASSED 3/3\n",
      "###\n",
      "\n"
     ]
    }
   ],
   "source": [
    "# Test your evaluate_candidates() function\n",
    "def evaluate_candidate_sols_test(evaluate_candidate_sols):\n",
    "    genetic_algorithm = GA.GeneticAlgorithm(64, CHROMOSOME_LENGTH, verbose)\n",
    "    solutions = genetic_algorithm.generate_candidate_sols(64)\n",
    "    test.equal(len(evaluate_candidate_sols(genetic_algorithm, solutions)), (64))\n",
    "    test.equal(isinstance(evaluate_candidate_sols(genetic_algorithm, solutions)[0], \\\n",
    "                          bitstring.ConstBitStream), True)\n",
    "    genetic_algorithm = GA.GeneticAlgorithm(512, CHROMOSOME_LENGTH, verbose)\n",
    "    solutions = genetic_algorithm.generate_candidate_sols(512)\n",
    "    test.equal(len(evaluate_candidate_sols(genetic_algorithm, solutions)), (512))\n",
    "\n",
    "@test\n",
    "def evaluate_candidate_sols(genetic_algorithm, solutions):\n",
    "    return genetic_algorithm.evaluate_candidates(solutions)"
   ]
  },
  {
   "cell_type": "code",
   "execution_count": null,
   "metadata": {},
   "outputs": [],
   "source": []
  },
  {
   "cell_type": "markdown",
   "metadata": {},
   "source": [
    "### `3-  On Selecting Parents:`\n",
    "Write your code in `select_parents` in class `GeneticAlgorithm`. Here, you'll make pairs of individuals in your randomly created population. So, if your population size is 64, you'll make 32 pairs. Any consecutive two elements in population will form one pair. These pairs are parents which will `recombine` in the next stage to reproduce offspring.\n",
    "\n",
    "`Note`: One pair (2 individuals) will recombine to produce 2 offspring. Parents will be replaced by offspring. So, your population size will not change through out the evolution. \n",
    "\n",
    "See [Slides](https://drive.google.com/file/d/1exXbHn_k0_jNRbRbyVrh6Ecn2SHVEvtQ/view?usp=sharing) for further information. \n",
    "\n",
    "`Test` your implementation of `select_parents` by running the next cell."
   ]
  },
  {
   "cell_type": "code",
   "execution_count": 4,
   "metadata": {
    "scrolled": true
   },
   "outputs": [
    {
     "name": "stdout",
     "output_type": "stream",
     "text": [
      "### TESTING select_parents_sols: PASSED 4/4\n",
      "###\n",
      "\n"
     ]
    }
   ],
   "source": [
    "def select_parents_sols_test(select_parents):\n",
    "    genetic_algorithm = GA.GeneticAlgorithm(64, CHROMOSOME_LENGTH, verbose)\n",
    "    solutions = genetic_algorithm.generate_candidate_sols(64)\n",
    "    parents = evaluate_candidate_sols(genetic_algorithm, solutions)\n",
    "    test.equal(len(select_parents(genetic_algorithm, parents)), (32))\n",
    "    test.equal(isinstance(select_parents(genetic_algorithm, parents)[0], \\\n",
    "                          tuple), True)\n",
    "    genetic_algorithm = GA.GeneticAlgorithm(512, CHROMOSOME_LENGTH, verbose)\n",
    "    solutions = genetic_algorithm.generate_candidate_sols(512)\n",
    "    parents = evaluate_candidate_sols(genetic_algorithm, solutions)\n",
    "    test.equal(len(select_parents(genetic_algorithm, parents)), (256))\n",
    "    test.equal(isinstance(select_parents(genetic_algorithm, parents)[0], \\\n",
    "                          tuple), True)\n",
    "\n",
    "@test\n",
    "def select_parents_sols(genetic_algorithm, parents):\n",
    "    return genetic_algorithm.select_parents(parents)"
   ]
  },
  {
   "cell_type": "code",
   "execution_count": null,
   "metadata": {},
   "outputs": [],
   "source": []
  },
  {
   "cell_type": "markdown",
   "metadata": {},
   "source": [
    "### `4- On Recombining Candidates:`\n",
    "Here you'll fill in the function:\n",
    "```Python\n",
    "    def recombine_pairs_of_parents(self, p1, p2):\n",
    "        \"\"\"\n",
    "        args: p1, ConstBitStream\n",
    "              p2, ConstBitStream\n",
    "        returns: \n",
    "        split at .6-.9 of 56 bits (CHROMOSOME_LENGTH). i.e. between 31-50 bits\n",
    "        \n",
    "        \"\"\"\n",
    "        pass\n",
    "```\n",
    "For recombination of a pair, you'll choose split point randomly in the range $60-90$ percent of the chromosome length (which is the length of WallBitString: 56), and return the recombined pair (offspring). \n",
    "\n",
    "- You may find [random range](https://docs.python.org/3/library/random.html#random.randrange) function useful. <br> \n",
    "- You may also find [Bit Stream](https://pythonhosted.org/bitstring/bitstream.html#bitstring.BitStream) helpful. \n",
    "\n",
    "See [Slides](https://drive.google.com/file/d/1exXbHn_k0_jNRbRbyVrh6Ecn2SHVEvtQ/view?usp=sharing) for more information. \n",
    "\n",
    "Test your implementation of `recombine_pairs_of_parents` by running the cell below."
   ]
  },
  {
   "cell_type": "code",
   "execution_count": 24,
   "metadata": {},
   "outputs": [
    {
     "name": "stdout",
     "output_type": "stream",
     "text": [
      "### TESTING recombine_parents_sols: PASSED 6/6\n",
      "###\n",
      "\n"
     ]
    }
   ],
   "source": [
    "# Test your recombine_pairs_of_parents() function\n",
    "def recombine_parents_sols_test(recombine_parents_sols):\n",
    "    genetic_algorithm = GA.GeneticAlgorithm(64, CHROMOSOME_LENGTH, verbose)\n",
    "    solutions = genetic_algorithm.generate_candidate_sols(64)\n",
    "    parents = genetic_algorithm.evaluate_candidates(solutions)\n",
    "    test.equal(len(recombine_parents_sols(genetic_algorithm, parents[0], parents[1])), (2))\n",
    "    if parents[0] != parents[10]:\n",
    "        test.not_equal((recombine_parents_sols(genetic_algorithm, parents[0], parents[10])), (parents[0], parents[1]))\n",
    "    else:\n",
    "        test.equal((recombine_parents_sols(genetic_algorithm, parents[0], parents[10])), (parents[0], parents[1]))\n",
    "    \n",
    "    genetic_algorithm = GA.GeneticAlgorithm(512, CHROMOSOME_LENGTH, verbose)\n",
    "    solutions = genetic_algorithm.generate_candidate_sols(512)\n",
    "    parents = genetic_algorithm.evaluate_candidates(solutions)\n",
    "    test.equal(len(recombine_parents_sols(genetic_algorithm, parents[0], parents[1])), (2))\n",
    "    if parents[0] != parents[10]:\n",
    "        test.not_equal((recombine_parents_sols(genetic_algorithm, parents[0], parents[10])), (parents[0], parents[1]))\n",
    "    else:\n",
    "        test.equal((recombine_parents_sols(genetic_algorithm, parents[0], parents[10])), (parents[0], parents[1]))\n",
    "    test.equal(isinstance(recombine_parents_sols(genetic_algorithm, parents[0], parents[10])[0], \\\n",
    "                          bitstring.ConstBitStream), True)\n",
    "    test.equal(isinstance(recombine_parents_sols(genetic_algorithm, parents[1], parents[10])[0], \\\n",
    "                          bitstring.ConstBitStream), True)\n",
    "    \n",
    "@test\n",
    "def recombine_parents_sols(genetic_algorithm, parent1, parent2):\n",
    "    return genetic_algorithm.recombine_pairs_of_parents(parent1, parent2)\n",
    "\n"
   ]
  },
  {
   "cell_type": "code",
   "execution_count": null,
   "metadata": {},
   "outputs": [],
   "source": []
  },
  {
   "cell_type": "markdown",
   "metadata": {},
   "source": [
    "### `5- On Mutating Offspring:`\n",
    "Here, you'll fill in the function:\n",
    "```Python\n",
    "def mutate_offspring(self, p):\n",
    "       '''\n",
    "       args: individual (ConstBitStream)\n",
    "       returns: individual (ConstBitStream)\n",
    "       '''\n",
    "       pass\n",
    "```\n",
    "This function takes as argument only one individual.\n",
    "You'll flip each bit (0 => 1 OR 1 => 0) of the BitString independently with a \"certain\" probability called mutation rate- defined in [Slides](https://drive.google.com/file/d/1exXbHn_k0_jNRbRbyVrh6Ecn2SHVEvtQ/view?usp=sharing).\n",
    "\n",
    "- You may find [random](https://docs.python.org/3/library/random.html#module-random) helpful. \n",
    "- You may also find [Bit Stream](https://pythonhosted.org/bitstring/bitstream.html#bitstring.BitStream) helpful. \n",
    "\n",
    "\n",
    "Test your implementation of `mutate_offspring` by running the cell below."
   ]
  },
  {
   "cell_type": "code",
   "execution_count": 25,
   "metadata": {},
   "outputs": [
    {
     "name": "stdout",
     "output_type": "stream",
     "text": [
      "### TESTING mutate_offspring_sols: PASSED 2/2\n",
      "###\n",
      "\n"
     ]
    }
   ],
   "source": [
    "# Test your mutate_offspring() function\n",
    "def mutate_offspring_sols_test(mutate_offspring_sols):\n",
    "    genetic_algorithm = GA.GeneticAlgorithm(64, CHROMOSOME_LENGTH, verbose)\n",
    "    solutions = genetic_algorithm.generate_candidate_sols(64)\n",
    "    parents = genetic_algorithm.evaluate_candidates(solutions)\n",
    "    test.equal(len(mutate_offspring_sols(genetic_algorithm, parents[0])), CHROMOSOME_LENGTH)\n",
    "    test.equal(isinstance(mutate_offspring_sols(genetic_algorithm, parents[0]), \\\n",
    "                          bitstring.ConstBitStream), True)\n",
    "    \n",
    "@test\n",
    "def mutate_offspring_sols(genetic_algorithm, parent):\n",
    "    return genetic_algorithm.mutate_offspring(parent)\n"
   ]
  },
  {
   "cell_type": "code",
   "execution_count": null,
   "metadata": {},
   "outputs": [],
   "source": []
  },
  {
   "cell_type": "markdown",
   "metadata": {},
   "source": [
    "## `On Converging to the Fittest Individual:`\n",
    "This is the real test. Your solution should find a candidate with 100% solution in a few minutes (not greater than 10 minutes)."
   ]
  },
  {
   "cell_type": "code",
   "execution_count": 7,
   "metadata": {},
   "outputs": [],
   "source": [
    "resp = input('Do you want to see Fitness of each candidate solution? yes/no ')\n",
    "if resp in ['yes', 'y', '1', 'Y']:\n",
    "    verbose = True\n",
    "\n",
    "genetic_algorithm = GA.GeneticAlgorithm(POPULATION_SIZE, CHROMOSOME_LENGTH, verbose)\n",
    "genetic_algorithm.run_genetic_alg()"
   ]
  },
  {
   "cell_type": "code",
   "execution_count": null,
   "metadata": {},
   "outputs": [],
   "source": []
  }
 ],
 "metadata": {
  "kernelspec": {
   "display_name": "Python 3",
   "language": "python",
   "name": "python3"
  },
  "language_info": {
   "codemirror_mode": {
    "name": "ipython",
    "version": 3
   },
   "file_extension": ".py",
   "mimetype": "text/x-python",
   "name": "python",
   "nbconvert_exporter": "python",
   "pygments_lexer": "ipython3",
   "version": "3.8.1"
  }
 },
 "nbformat": 4,
 "nbformat_minor": 2
}
